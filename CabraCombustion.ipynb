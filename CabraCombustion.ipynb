{
 "cells": [
  {
   "cell_type": "markdown",
   "id": "1bce8806-c9bd-4bef-8c7d-c538e987c09c",
   "metadata": {},
   "source": [
    "# Cabra燃烧 | dflow工作流"
   ]
  },
  {
   "cell_type": "markdown",
   "id": "8c43156e-69b5-4cb9-b5ce-0cf56a15d684",
   "metadata": {},
   "source": [
    "<a href=\"https://bohrium.dp.tech/workspace?openFile=CabraCombustion.ipynb\" target=\"_blank\"><img src=\"https://cdn.dp.tech/bohrium/web/static/images/open-in-bohrium.svg\" alt=\"Open In Bohrium\"/></a>  [![GitHub](https://badges.aleen42.com/src/github.svg)](https://github.com/LefoMount/notebooks/blob/main/CabraCombustion.ipynb)"
   ]
  },
  {
   "cell_type": "markdown",
   "id": "e549fcfe-90f5-4376-9a2c-a045f0958adf",
   "metadata": {},
   "source": [
    "<div style=\"color:black; background-color:#FFF3E9; border: 1px solid #FFE0C3; border-radius: 10px; margin-bottom:1rem\">\n",
    "    <p style=\"margin:1rem; padding-left: 1rem; line-height: 2.5;\">\n",
    "        ©️ <b><i>Copyright 2023 @ Authors</i></b><br/>\n",
    "        <i>作者：<a href=\"mailto:hh@shao.ac.cn\"><b>刘圣铭 📨 </b></a></i><br/>\n",
    "        <i>日期：2023-06-14</i><br/>\n",
    "        <i>共享协议：</a>本作品采用<a rel=\"license\" href=\"http://creativecommons.org/licenses/by-nc-sa/4.0/\">知识共享署名-非商业性使用-相同方式共享 4.0 国际许可协议</a>进行许可。</i>\n",
    "    </p>\n",
    "</div>"
   ]
  },
  {
   "cell_type": "markdown",
   "id": "5c0dd3e8-d059-4a0d-af2e-cd5518d537ec",
   "metadata": {},
   "source": [
    "这个地方做一下介绍：图文搭配"
   ]
  },
  {
   "cell_type": "markdown",
   "id": "ddd2be20-7959-42b4-b001-41a5c9107afb",
   "metadata": {},
   "source": [
    "## 配置dflow环境 <a id ='background'></a>"
   ]
  },
  {
   "cell_type": "markdown",
   "id": "51186f2f-915a-438a-80e1-3c2384555f38",
   "metadata": {},
   "source": [
    "安装dflow和Bohrium客户包"
   ]
  },
  {
   "cell_type": "code",
   "execution_count": 5,
   "id": "676be94e-72e3-4435-b567-14e7433b4b05",
   "metadata": {},
   "outputs": [
    {
     "name": "stdout",
     "output_type": "stream",
     "text": [
      "Looking in indexes: https://pypi.tuna.tsinghua.edu.cn/simple\n",
      "Requirement already satisfied: pydflow in /home/lsm/anaconda3/envs/deepflame/lib/python3.8/site-packages (1.7.2)\n",
      "Collecting pydflow\n",
      "  Downloading https://pypi.tuna.tsinghua.edu.cn/packages/f5/9d/43104765bc3a9735ebcc64ebd9423d9a0b63ba379fc6fcdf6cf37530b13d/pydflow-1.7.3-py3-none-any.whl (123 kB)\n",
      "\u001b[2K     \u001b[90m━━━━━━━━━━━━━━━━━━━━━━━━━━━━━━━━━━━━━━━\u001b[0m \u001b[32m123.7/123.7 kB\u001b[0m \u001b[31m6.1 MB/s\u001b[0m eta \u001b[36m0:00:00\u001b[0m\n",
      "\u001b[?25hRequirement already satisfied: argo-workflows==5.0.0 in /home/lsm/anaconda3/envs/deepflame/lib/python3.8/site-packages (from pydflow) (5.0.0)\n",
      "Requirement already satisfied: jsonpickle in /home/lsm/anaconda3/envs/deepflame/lib/python3.8/site-packages (from pydflow) (3.0.1)\n",
      "Requirement already satisfied: python-dateutil in /home/lsm/.local/lib/python3.8/site-packages (from pydflow) (2.8.2)\n",
      "Requirement already satisfied: kubernetes in /home/lsm/anaconda3/envs/deepflame/lib/python3.8/site-packages (from pydflow) (26.1.0)\n",
      "Requirement already satisfied: requests in /home/lsm/anaconda3/envs/deepflame/lib/python3.8/site-packages (from pydflow) (2.29.0)\n",
      "Requirement already satisfied: minio in /home/lsm/anaconda3/envs/deepflame/lib/python3.8/site-packages (from pydflow) (7.1.15)\n",
      "Requirement already satisfied: cloudpickle==2.2.0 in /home/lsm/anaconda3/envs/deepflame/lib/python3.8/site-packages (from pydflow) (2.2.0)\n",
      "Requirement already satisfied: urllib3 in /home/lsm/anaconda3/envs/deepflame/lib/python3.8/site-packages (from pydflow) (1.26.15)\n",
      "Requirement already satisfied: certifi in /home/lsm/anaconda3/envs/deepflame/lib/python3.8/site-packages (from pydflow) (2023.5.7)\n",
      "Requirement already satisfied: six in /home/lsm/.local/lib/python3.8/site-packages (from pydflow) (1.16.0)\n",
      "Requirement already satisfied: typeguard<3 in /home/lsm/anaconda3/envs/deepflame/lib/python3.8/site-packages (from pydflow) (2.13.3)\n",
      "Requirement already satisfied: pyyaml in /home/lsm/.local/lib/python3.8/site-packages (from pydflow) (6.0)\n",
      "Requirement already satisfied: tqdm in /home/lsm/anaconda3/envs/deepflame/lib/python3.8/site-packages (from pydflow) (4.65.0)\n",
      "Requirement already satisfied: requests-oauthlib in /home/lsm/anaconda3/envs/deepflame/lib/python3.8/site-packages (from kubernetes->pydflow) (1.3.1)\n",
      "Requirement already satisfied: websocket-client!=0.40.0,!=0.41.*,!=0.42.*,>=0.32.0 in /home/lsm/.local/lib/python3.8/site-packages (from kubernetes->pydflow) (1.5.2)\n",
      "Requirement already satisfied: google-auth>=1.0.1 in /home/lsm/anaconda3/envs/deepflame/lib/python3.8/site-packages (from kubernetes->pydflow) (2.19.1)\n",
      "Requirement already satisfied: setuptools>=21.0.0 in /home/lsm/anaconda3/envs/deepflame/lib/python3.8/site-packages (from kubernetes->pydflow) (67.8.0)\n",
      "Requirement already satisfied: idna<4,>=2.5 in /home/lsm/.local/lib/python3.8/site-packages (from requests->pydflow) (3.4)\n",
      "Requirement already satisfied: charset-normalizer<4,>=2 in /home/lsm/anaconda3/envs/deepflame/lib/python3.8/site-packages (from requests->pydflow) (2.0.4)\n",
      "Requirement already satisfied: rsa<5,>=3.1.4 in /home/lsm/anaconda3/envs/deepflame/lib/python3.8/site-packages (from google-auth>=1.0.1->kubernetes->pydflow) (4.9)\n",
      "Requirement already satisfied: pyasn1-modules>=0.2.1 in /home/lsm/anaconda3/envs/deepflame/lib/python3.8/site-packages (from google-auth>=1.0.1->kubernetes->pydflow) (0.3.0)\n",
      "Requirement already satisfied: cachetools<6.0,>=2.0.0 in /home/lsm/anaconda3/envs/deepflame/lib/python3.8/site-packages (from google-auth>=1.0.1->kubernetes->pydflow) (5.3.1)\n",
      "Requirement already satisfied: oauthlib>=3.0.0 in /home/lsm/anaconda3/envs/deepflame/lib/python3.8/site-packages (from requests-oauthlib->kubernetes->pydflow) (3.2.2)\n",
      "Requirement already satisfied: pyasn1<0.6.0,>=0.4.6 in /home/lsm/anaconda3/envs/deepflame/lib/python3.8/site-packages (from pyasn1-modules>=0.2.1->google-auth>=1.0.1->kubernetes->pydflow) (0.5.0)\n",
      "Installing collected packages: pydflow\n",
      "  Attempting uninstall: pydflow\n",
      "    Found existing installation: pydflow 1.7.2\n",
      "    Uninstalling pydflow-1.7.2:\n",
      "      Successfully uninstalled pydflow-1.7.2\n",
      "Successfully installed pydflow-1.7.3\n",
      "Looking in indexes: https://pypi.tuna.tsinghua.edu.cn/simple\n",
      "Collecting lbg\n",
      "  Downloading https://pypi.tuna.tsinghua.edu.cn/packages/db/9d/5e9d6fe8c93f015afb995893a78b87fd06899542a581502fd489c0c0d5cb/lbg-1.2.18-py3-none-any.whl (41 kB)\n",
      "\u001b[2K     \u001b[90m━━━━━━━━━━━━━━━━━━━━━━━━━━━━━━━━━━━━━━━━\u001b[0m \u001b[32m41.4/41.4 kB\u001b[0m \u001b[31m2.4 MB/s\u001b[0m eta \u001b[36m0:00:00\u001b[0m\n",
      "\u001b[?25hCollecting validators\n",
      "  Downloading https://pypi.tuna.tsinghua.edu.cn/packages/95/14/ed0af6865d378cfc3c504aed0d278a890cbefb2f1934bf2dbe92ecf9d6b1/validators-0.20.0.tar.gz (30 kB)\n",
      "  Preparing metadata (setup.py) ... \u001b[?25ldone\n",
      "\u001b[?25hRequirement already satisfied: pyyaml in /home/lsm/.local/lib/python3.8/site-packages (from lbg) (6.0)\n",
      "Requirement already satisfied: tqdm in /home/lsm/anaconda3/envs/deepflame/lib/python3.8/site-packages (from lbg) (4.65.0)\n",
      "Collecting aliyun-python-sdk-sts\n",
      "  Downloading https://pypi.tuna.tsinghua.edu.cn/packages/b1/4b/0948334438bb5f7617c9ed42d87bcfd6476d96190a82432cf0b610b2b51a/aliyun_python_sdk_sts-3.1.1-py2.py3-none-any.whl (8.0 kB)\n",
      "Collecting readchar\n",
      "  Downloading https://pypi.tuna.tsinghua.edu.cn/packages/cd/14/730280df294e52e395a70111f4d9b07be94f5ba7a69db7eba3c324f113b2/readchar-4.0.5-py3-none-any.whl (8.5 kB)\n",
      "Collecting oss2\n",
      "  Downloading https://pypi.tuna.tsinghua.edu.cn/packages/ae/42/ca0a686a56def81bf3c7bb651c8fb552458258099203849f6ead54f3fc87/oss2-2.18.0.tar.gz (270 kB)\n",
      "\u001b[2K     \u001b[90m━━━━━━━━━━━━━━━━━━━━━━━━━━━━━━━━━━━━━━\u001b[0m \u001b[32m270.5/270.5 kB\u001b[0m \u001b[31m11.5 MB/s\u001b[0m eta \u001b[36m0:00:00\u001b[0m\n",
      "\u001b[?25h  Preparing metadata (setup.py) ... \u001b[?25ldone\n",
      "\u001b[?25hRequirement already satisfied: requests in /home/lsm/anaconda3/envs/deepflame/lib/python3.8/site-packages (from lbg) (2.29.0)\n",
      "Collecting requests-toolbelt\n",
      "  Downloading https://pypi.tuna.tsinghua.edu.cn/packages/3f/51/d4db610ef29373b879047326cbf6fa98b6c1969d6f6dc423279de2b1be2c/requests_toolbelt-1.0.0-py2.py3-none-any.whl (54 kB)\n",
      "\u001b[2K     \u001b[90m━━━━━━━━━━━━━━━━━━━━━━━━━━━━━━━━━━━━━━━━\u001b[0m \u001b[32m54.5/54.5 kB\u001b[0m \u001b[31m23.5 MB/s\u001b[0m eta \u001b[36m0:00:00\u001b[0m\n",
      "\u001b[?25hCollecting pyreadline\n",
      "  Downloading https://pypi.tuna.tsinghua.edu.cn/packages/bc/7c/d724ef1ec3ab2125f38a1d53285745445ec4a8f19b9bb0761b4064316679/pyreadline-2.1.zip (109 kB)\n",
      "\u001b[2K     \u001b[90m━━━━━━━━━━━━━━━━━━━━━━━━━━━━━━━━━━━━━━\u001b[0m \u001b[32m109.2/109.2 kB\u001b[0m \u001b[31m33.7 MB/s\u001b[0m eta \u001b[36m0:00:00\u001b[0m\n",
      "\u001b[?25h  Preparing metadata (setup.py) ... \u001b[?25ldone\n",
      "\u001b[?25hCollecting pytimeparse\n",
      "  Downloading https://pypi.tuna.tsinghua.edu.cn/packages/1b/b4/afd75551a3b910abd1d922dbd45e49e5deeb4d47dc50209ce489ba9844dd/pytimeparse-1.1.8-py2.py3-none-any.whl (10.0 kB)\n",
      "Collecting colorama\n",
      "  Downloading https://pypi.tuna.tsinghua.edu.cn/packages/d1/d6/3965ed04c63042e047cb6a3e6ed1a63a35087b6a609aa3a15ed8ac56c221/colorama-0.4.6-py2.py3-none-any.whl (25 kB)\n",
      "Collecting pyhumps\n",
      "  Downloading https://pypi.tuna.tsinghua.edu.cn/packages/9e/11/a1938340ecb32d71e47ad4914843775011e6e9da59ba1229f181fef3119e/pyhumps-3.8.0-py3-none-any.whl (6.1 kB)\n",
      "Collecting aliyun-python-sdk-core\n",
      "  Downloading https://pypi.tuna.tsinghua.edu.cn/packages/55/5a/6eec6c6e78817e5ca2afee661f2bbb33dbcfa2ce09a2980b52223323bd2e/aliyun-python-sdk-core-2.13.36.tar.gz (440 kB)\n",
      "\u001b[2K     \u001b[90m━━━━━━━━━━━━━━━━━━━━━━━━━━━━━━━━━━━━━━\u001b[0m \u001b[32m440.5/440.5 kB\u001b[0m \u001b[31m15.2 MB/s\u001b[0m eta \u001b[36m0:00:00\u001b[0m\n",
      "\u001b[?25h  Preparing metadata (setup.py) ... \u001b[?25ldone\n",
      "\u001b[?25hCollecting aliyun-python-sdk-kms\n",
      "  Downloading https://pypi.tuna.tsinghua.edu.cn/packages/13/90/02d05478df643ceac0021bd3db4f19b42dd06c2b73e082569d0d340de70c/aliyun_python_sdk_kms-2.16.1-py2.py3-none-any.whl (70 kB)\n",
      "\u001b[2K     \u001b[90m━━━━━━━━━━━━━━━━━━━━━━━━━━━━━━━━━━━━━━━━\u001b[0m \u001b[32m70.8/70.8 kB\u001b[0m \u001b[31m29.3 MB/s\u001b[0m eta \u001b[36m0:00:00\u001b[0m\n",
      "\u001b[?25hCollecting pyreadline3\n",
      "  Downloading https://pypi.tuna.tsinghua.edu.cn/packages/56/fc/a3c13ded7b3057680c8ae95a9b6cc83e63657c38e0005c400a5d018a33a7/pyreadline3-3.4.1-py3-none-any.whl (95 kB)\n",
      "\u001b[2K     \u001b[90m━━━━━━━━━━━━━━━━━━━━━━━━━━━━━━━━━━━━━━━━\u001b[0m \u001b[32m95.2/95.2 kB\u001b[0m \u001b[31m17.9 MB/s\u001b[0m eta \u001b[36m0:00:00\u001b[0m\n",
      "\u001b[?25hRequirement already satisfied: packaging in /home/lsm/.local/lib/python3.8/site-packages (from lbg) (23.1)\n",
      "Collecting argcomplete\n",
      "  Downloading https://pypi.tuna.tsinghua.edu.cn/packages/4f/ef/8b604222ba5e5190e25851aa3a5b754f2002361dc62a258a8e9f13e866f4/argcomplete-3.1.1-py3-none-any.whl (41 kB)\n",
      "\u001b[2K     \u001b[90m━━━━━━━━━━━━━━━━━━━━━━━━━━━━━━━━━━━━━━━━\u001b[0m \u001b[32m41.5/41.5 kB\u001b[0m \u001b[31m18.4 MB/s\u001b[0m eta \u001b[36m0:00:00\u001b[0m\n",
      "\u001b[?25hCollecting pandas\n",
      "  Downloading https://pypi.tuna.tsinghua.edu.cn/packages/9b/52/18c98eb7cc3965faf26b7a49453c2d0145b50143b2e417ead4e97707e2c2/pandas-2.0.2-cp38-cp38-manylinux_2_17_x86_64.manylinux2014_x86_64.whl (12.3 MB)\n",
      "\u001b[2K     \u001b[90m━━━━━━━━━━━━━━━━━━━━━━━━━━━━━━━━━━━━━━━━\u001b[0m \u001b[32m12.3/12.3 MB\u001b[0m \u001b[31m18.3 MB/s\u001b[0m eta \u001b[36m0:00:00\u001b[0m00:01\u001b[0m00:01\u001b[0m\n",
      "\u001b[?25hCollecting jmespath<1.0.0,>=0.9.3\n",
      "  Downloading https://pypi.tuna.tsinghua.edu.cn/packages/07/cb/5f001272b6faeb23c1c9e0acc04d48eaaf5c862c17709d20e3469c6e0139/jmespath-0.10.0-py2.py3-none-any.whl (24 kB)\n",
      "Requirement already satisfied: cryptography>=2.6.0 in /home/lsm/anaconda3/envs/deepflame/lib/python3.8/site-packages (from aliyun-python-sdk-core->lbg) (39.0.1)\n",
      "Collecting crcmod>=1.7\n",
      "  Downloading https://pypi.tuna.tsinghua.edu.cn/packages/6b/b0/e595ce2a2527e169c3bcd6c33d2473c1918e0b7f6826a043ca1245dd4e5b/crcmod-1.7.tar.gz (89 kB)\n",
      "\u001b[2K     \u001b[90m━━━━━━━━━━━━━━━━━━━━━━━━━━━━━━━━━━━━━━━━\u001b[0m \u001b[32m89.7/89.7 kB\u001b[0m \u001b[31m42.5 MB/s\u001b[0m eta \u001b[36m0:00:00\u001b[0m\n",
      "\u001b[?25h  Preparing metadata (setup.py) ... \u001b[?25ldone\n",
      "\u001b[?25hCollecting pycryptodome>=3.4.7\n",
      "  Downloading https://pypi.tuna.tsinghua.edu.cn/packages/40/88/89623388754162ddb82c62814ccbfdbfcc8ed9bd6d5f7412d2479bdca3a7/pycryptodome-3.18.0-cp35-abi3-manylinux_2_17_x86_64.manylinux2014_x86_64.whl (2.1 MB)\n",
      "\u001b[2K     \u001b[90m━━━━━━━━━━━━━━━━━━━━━━━━━━━━━━━━━━━━━━━━\u001b[0m \u001b[32m2.1/2.1 MB\u001b[0m \u001b[31m20.4 MB/s\u001b[0m eta \u001b[36m0:00:00\u001b[0m00:01\u001b[0m00:01\u001b[0m\n",
      "\u001b[?25hRequirement already satisfied: six in /home/lsm/.local/lib/python3.8/site-packages (from oss2->lbg) (1.16.0)\n",
      "Requirement already satisfied: charset-normalizer<4,>=2 in /home/lsm/anaconda3/envs/deepflame/lib/python3.8/site-packages (from requests->lbg) (2.0.4)\n",
      "Requirement already satisfied: certifi>=2017.4.17 in /home/lsm/anaconda3/envs/deepflame/lib/python3.8/site-packages (from requests->lbg) (2023.5.7)\n",
      "Requirement already satisfied: urllib3<1.27,>=1.21.1 in /home/lsm/anaconda3/envs/deepflame/lib/python3.8/site-packages (from requests->lbg) (1.26.15)\n",
      "Requirement already satisfied: idna<4,>=2.5 in /home/lsm/.local/lib/python3.8/site-packages (from requests->lbg) (3.4)\n",
      "Requirement already satisfied: python-dateutil>=2.8.2 in /home/lsm/.local/lib/python3.8/site-packages (from pandas->lbg) (2.8.2)\n",
      "Requirement already satisfied: pytz>=2020.1 in /home/lsm/anaconda3/envs/deepflame/lib/python3.8/site-packages (from pandas->lbg) (2023.3)\n",
      "Collecting tzdata>=2022.1\n",
      "  Downloading https://pypi.tuna.tsinghua.edu.cn/packages/d5/fb/a79efcab32b8a1f1ddca7f35109a50e4a80d42ac1c9187ab46522b2407d7/tzdata-2023.3-py2.py3-none-any.whl (341 kB)\n",
      "\u001b[2K     \u001b[90m━━━━━━━━━━━━━━━━━━━━━━━━━━━━━━━━━━━━━━\u001b[0m \u001b[32m341.8/341.8 kB\u001b[0m \u001b[31m11.9 MB/s\u001b[0m eta \u001b[36m0:00:00\u001b[0m\n",
      "\u001b[?25hRequirement already satisfied: numpy>=1.20.3 in /home/lsm/anaconda3/envs/deepflame/lib/python3.8/site-packages (from pandas->lbg) (1.24.3)\n",
      "Requirement already satisfied: setuptools>=41.0 in /home/lsm/anaconda3/envs/deepflame/lib/python3.8/site-packages (from readchar->lbg) (67.8.0)\n",
      "Requirement already satisfied: decorator>=3.4.0 in /home/lsm/.local/lib/python3.8/site-packages (from validators->lbg) (5.1.1)\n",
      "Requirement already satisfied: cffi>=1.12 in /home/lsm/.local/lib/python3.8/site-packages (from cryptography>=2.6.0->aliyun-python-sdk-core->lbg) (1.15.1)\n",
      "Requirement already satisfied: pycparser in /home/lsm/.local/lib/python3.8/site-packages (from cffi>=1.12->cryptography>=2.6.0->aliyun-python-sdk-core->lbg) (2.21)\n",
      "Building wheels for collected packages: aliyun-python-sdk-core, oss2, pyreadline, validators, crcmod\n",
      "  Building wheel for aliyun-python-sdk-core (setup.py) ... \u001b[?25ldone\n",
      "\u001b[?25h  Created wheel for aliyun-python-sdk-core: filename=aliyun_python_sdk_core-2.13.36-py3-none-any.whl size=533196 sha256=9c48f9bb6adda4dfb64231ba3271ef89886eeaa747f22483afd9a57ff524f6d3\n",
      "  Stored in directory: /home/lsm/.cache/pip/wheels/82/2b/9d/c54238e19dca3e8b69a82fd9d00ecfe16a6d585dfa3ee33cfd\n",
      "  Building wheel for oss2 (setup.py) ... \u001b[?25ldone\n",
      "\u001b[?25h  Created wheel for oss2: filename=oss2-2.18.0-py3-none-any.whl size=114756 sha256=3f79bf6fb88ed9755258d0510b4a75c2f03b8338ea6bca2ccef7423a7feeec4b\n",
      "  Stored in directory: /home/lsm/.cache/pip/wheels/af/4e/b1/b3d91c7f54ada154908b1cb5b9b73dfbdfe5d0544831e382dd\n",
      "  Building wheel for pyreadline (setup.py) ... \u001b[?25ldone\n",
      "\u001b[?25h  Created wheel for pyreadline: filename=pyreadline-2.1-py3-none-any.whl size=93832 sha256=cdbfa615ab6714962909cb87ecf8f23709c990c17a30b444aa1dc2e483dec123\n",
      "  Stored in directory: /home/lsm/.cache/pip/wheels/da/49/6c/c099de5eeef708b4ef637956563db64618c76287c11c1dd194\n",
      "  Building wheel for validators (setup.py) ... \u001b[?25ldone\n",
      "\u001b[?25h  Created wheel for validators: filename=validators-0.20.0-py3-none-any.whl size=19581 sha256=65953585bbd3cd064ac67a1b26a89fd0d8daef44bf1adca5f7350828ef7af9f0\n",
      "  Stored in directory: /home/lsm/.cache/pip/wheels/5f/2b/06/479ea0e4874894d4237a8e5972715b3c8bb82334a7aa963243\n",
      "  Building wheel for crcmod (setup.py) ... \u001b[?25ldone\n",
      "\u001b[?25h  Created wheel for crcmod: filename=crcmod-1.7-cp38-cp38-linux_x86_64.whl size=35933 sha256=3e34b16bc57d3a174792137f6bf7e5160181dbce191be153101febab725c0198\n",
      "  Stored in directory: /home/lsm/.cache/pip/wheels/ee/bf/82/ac509f3b383e310a168c1da020cbc62d98c03a6c7c74babc63\n",
      "Successfully built aliyun-python-sdk-core oss2 pyreadline validators crcmod\n",
      "Installing collected packages: pytimeparse, pyreadline3, pyreadline, pyhumps, crcmod, validators, tzdata, readchar, pycryptodome, jmespath, colorama, argcomplete, requests-toolbelt, pandas, aliyun-python-sdk-core, aliyun-python-sdk-sts, aliyun-python-sdk-kms, oss2, lbg\n",
      "Successfully installed aliyun-python-sdk-core-2.13.36 aliyun-python-sdk-kms-2.16.1 aliyun-python-sdk-sts-3.1.1 argcomplete-3.1.1 colorama-0.4.6 crcmod-1.7 jmespath-0.10.0 lbg-1.2.18 oss2-2.18.0 pandas-2.0.2 pycryptodome-3.18.0 pyhumps-3.8.0 pyreadline-2.1 pyreadline3-3.4.1 pytimeparse-1.1.8 readchar-4.0.5 requests-toolbelt-1.0.0 tzdata-2023.3 validators-0.20.0\n"
     ]
    }
   ],
   "source": [
    "! pip install pydflow -U -i https://pypi.tuna.tsinghua.edu.cn/simple\r\n",
    "! pip install lbg -U -i https://pypi.tuna.tsinghua.edu.cn/simple"
   ]
  },
  {
   "cell_type": "markdown",
   "id": "1d3aaa1c-1b63-4630-9f79-d18f686dd9eb",
   "metadata": {},
   "source": [
    "配置工作流服务器和Bohrium账户。如果您还没有Bohrium账户，请在[Bohrium官网](https://bohrium.dp.tech/)完成注册。"
   ]
  },
  {
   "cell_type": "code",
   "execution_count": null,
   "id": "130d7520-2d23-405e-b41f-818fe37d4753",
   "metadata": {},
   "outputs": [],
   "source": [
    "import getpass\n",
    "from dflow import config, s3_config\n",
    "from dflow.plugins import bohrium\n",
    "from dflow.plugins.bohrium import TiefblueClient\n",
    "config[\"host\"] = \"https://workflows.deepmodeling.com\"\n",
    "config[\"k8s_api_server\"] = \"https://workflows.deepmodeling.com\"\n",
    "bohrium.config[\"username\"] = getpass.getpass(\"Bohrium username: \")\n",
    "bohrium.config[\"password\"] = getpass.getpass(\"Bohrium password: \")\n",
    "bohrium.config[\"project_id\"] = getpass.getpass(\"Bohrium project_id: \")\n",
    "s3_config[\"repo_key\"] = \"oss-bohrium\"\n",
    "s3_config[\"storage_client\"] = TiefblueClient()"
   ]
  },
  {
   "cell_type": "code",
   "execution_count": null,
   "id": "f79fade1-1456-45ab-b40e-80e8aca38e37",
   "metadata": {},
   "outputs": [],
   "source": []
  }
 ],
 "metadata": {
  "kernelspec": {
   "display_name": "Python 3",
   "language": "python",
   "name": "python3"
  },
  "language_info": {
   "codemirror_mode": {
    "name": "ipython",
    "version": 3
   },
   "file_extension": ".py",
   "mimetype": "text/x-python",
   "name": "python",
   "nbconvert_exporter": "python",
   "pygments_lexer": "ipython3",
   "version": "3.8.16"
  }
 },
 "nbformat": 4,
 "nbformat_minor": 5
}
